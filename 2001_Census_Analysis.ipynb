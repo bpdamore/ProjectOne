{
 "nbformat": 4,
 "nbformat_minor": 2,
 "metadata": {
  "language_info": {
   "name": "python",
   "codemirror_mode": {
    "name": "ipython",
    "version": 3
   },
   "version": "3.7.4-final"
  },
  "orig_nbformat": 2,
  "file_extension": ".py",
  "mimetype": "text/x-python",
  "name": "python",
  "npconvert_exporter": "python",
  "pygments_lexer": "ipython3",
  "version": 3,
  "kernelspec": {
   "name": "python3",
   "display_name": "Python 3"
  }
 },
 "cells": [
  {
   "cell_type": "code",
   "execution_count": 1,
   "metadata": {},
   "outputs": [],
   "source": [
    "import pandas as pd\n",
    "import matplotlib.pyplot as plt"
   ]
  },
  {
   "cell_type": "code",
   "execution_count": 2,
   "metadata": {},
   "outputs": [
    {
     "output_type": "execute_result",
     "data": {
      "text/plain": "   Unnamed: 0   State                                           District  \\\n0           1      AN  District Andamans (01), Andaman & Nicobar Isla...   \n1           2      AN  District Nicobars (02), Andaman & Nicobar Isla...   \n2           3  Andhra        District Adilabad (01), Andhra Pradesh (28)   \n3           4  Andhra       District Nizamabad (02), Andhra Pradesh (28)   \n4           5  Andhra      District Karimnagar (03), Andhra Pradesh (28)   \n\n   Persons    Males  Females Growth..1991...2001.    Rural   Urban  \\\n0   314084   170319   143765                30.14   197886  116198   \n1    42068    22653    19415                 7.19    42068       -   \n2  2488003  1250958  1237045                19.06  1827986     NaN   \n3  2345685  1162905  1182780                14.98  1920947     NaN   \n4  3491822  1747968  1743854                14.47  2813010     NaN   \n\n  Scheduled.Caste.population  ... Medical.facility  Primary.Health.Centre  \\\n0                          -  ...              102                     16   \n1                          -  ...               38                      4   \n2                        NaN  ...              976                     61   \n3                        NaN  ...              614                     50   \n4                        NaN  ...              863                     70   \n\n   Primary.Health.Sub.Centre  Post..telegraph.and.telephone.facility  \\\n0                         78                                   161.0   \n1                         31                                    36.0   \n2                        432                                   558.0   \n3                        330                                   602.0   \n4                        475                                   795.0   \n\n   Bus.services Paved.approach.road Mud.approach.road  Permanent.House  \\\n0           187                 201               243             28.7   \n1            49                  51               111             28.0   \n2           814                 979               544             53.0   \n3           746                 760                82             52.8   \n4           912                 823               218             55.8   \n\n   Semi.permanent.House  Temporary.House  \n0                  39.1             32.0  \n1                  33.3             38.7  \n2                  39.9              7.0  \n3                  37.6              9.6  \n4                  36.4              7.8  \n\n[5 rows x 82 columns]",
      "text/html": "<div>\n<style scoped>\n    .dataframe tbody tr th:only-of-type {\n        vertical-align: middle;\n    }\n\n    .dataframe tbody tr th {\n        vertical-align: top;\n    }\n\n    .dataframe thead th {\n        text-align: right;\n    }\n</style>\n<table border=\"1\" class=\"dataframe\">\n  <thead>\n    <tr style=\"text-align: right;\">\n      <th></th>\n      <th>Unnamed: 0</th>\n      <th>State</th>\n      <th>District</th>\n      <th>Persons</th>\n      <th>Males</th>\n      <th>Females</th>\n      <th>Growth..1991...2001.</th>\n      <th>Rural</th>\n      <th>Urban</th>\n      <th>Scheduled.Caste.population</th>\n      <th>...</th>\n      <th>Medical.facility</th>\n      <th>Primary.Health.Centre</th>\n      <th>Primary.Health.Sub.Centre</th>\n      <th>Post..telegraph.and.telephone.facility</th>\n      <th>Bus.services</th>\n      <th>Paved.approach.road</th>\n      <th>Mud.approach.road</th>\n      <th>Permanent.House</th>\n      <th>Semi.permanent.House</th>\n      <th>Temporary.House</th>\n    </tr>\n  </thead>\n  <tbody>\n    <tr>\n      <td>0</td>\n      <td>1</td>\n      <td>AN</td>\n      <td>District Andamans (01), Andaman &amp; Nicobar Isla...</td>\n      <td>314084</td>\n      <td>170319</td>\n      <td>143765</td>\n      <td>30.14</td>\n      <td>197886</td>\n      <td>116198</td>\n      <td>-</td>\n      <td>...</td>\n      <td>102</td>\n      <td>16</td>\n      <td>78</td>\n      <td>161.0</td>\n      <td>187</td>\n      <td>201</td>\n      <td>243</td>\n      <td>28.7</td>\n      <td>39.1</td>\n      <td>32.0</td>\n    </tr>\n    <tr>\n      <td>1</td>\n      <td>2</td>\n      <td>AN</td>\n      <td>District Nicobars (02), Andaman &amp; Nicobar Isla...</td>\n      <td>42068</td>\n      <td>22653</td>\n      <td>19415</td>\n      <td>7.19</td>\n      <td>42068</td>\n      <td>-</td>\n      <td>-</td>\n      <td>...</td>\n      <td>38</td>\n      <td>4</td>\n      <td>31</td>\n      <td>36.0</td>\n      <td>49</td>\n      <td>51</td>\n      <td>111</td>\n      <td>28.0</td>\n      <td>33.3</td>\n      <td>38.7</td>\n    </tr>\n    <tr>\n      <td>2</td>\n      <td>3</td>\n      <td>Andhra</td>\n      <td>District Adilabad (01), Andhra Pradesh (28)</td>\n      <td>2488003</td>\n      <td>1250958</td>\n      <td>1237045</td>\n      <td>19.06</td>\n      <td>1827986</td>\n      <td>NaN</td>\n      <td>NaN</td>\n      <td>...</td>\n      <td>976</td>\n      <td>61</td>\n      <td>432</td>\n      <td>558.0</td>\n      <td>814</td>\n      <td>979</td>\n      <td>544</td>\n      <td>53.0</td>\n      <td>39.9</td>\n      <td>7.0</td>\n    </tr>\n    <tr>\n      <td>3</td>\n      <td>4</td>\n      <td>Andhra</td>\n      <td>District Nizamabad (02), Andhra Pradesh (28)</td>\n      <td>2345685</td>\n      <td>1162905</td>\n      <td>1182780</td>\n      <td>14.98</td>\n      <td>1920947</td>\n      <td>NaN</td>\n      <td>NaN</td>\n      <td>...</td>\n      <td>614</td>\n      <td>50</td>\n      <td>330</td>\n      <td>602.0</td>\n      <td>746</td>\n      <td>760</td>\n      <td>82</td>\n      <td>52.8</td>\n      <td>37.6</td>\n      <td>9.6</td>\n    </tr>\n    <tr>\n      <td>4</td>\n      <td>5</td>\n      <td>Andhra</td>\n      <td>District Karimnagar (03), Andhra Pradesh (28)</td>\n      <td>3491822</td>\n      <td>1747968</td>\n      <td>1743854</td>\n      <td>14.47</td>\n      <td>2813010</td>\n      <td>NaN</td>\n      <td>NaN</td>\n      <td>...</td>\n      <td>863</td>\n      <td>70</td>\n      <td>475</td>\n      <td>795.0</td>\n      <td>912</td>\n      <td>823</td>\n      <td>218</td>\n      <td>55.8</td>\n      <td>36.4</td>\n      <td>7.8</td>\n    </tr>\n  </tbody>\n</table>\n<p>5 rows × 82 columns</p>\n</div>"
     },
     "metadata": {},
     "execution_count": 2
    }
   ],
   "source": [
    "file = \"Resources/all.csv\"\n",
    "data = pd.read_csv(file)\n",
    "df = pd.DataFrame(data)"
   ]
  },
  {
   "cell_type": "code",
   "execution_count": null,
   "metadata": {},
   "outputs": [],
   "source": []
  }
 ]
}