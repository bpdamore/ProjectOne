{
 "nbformat": 4,
 "nbformat_minor": 2,
 "metadata": {
  "language_info": {
   "name": "python",
   "codemirror_mode": {
    "name": "ipython",
    "version": 3
   },
   "version": "3.7.4-final"
  },
  "orig_nbformat": 2,
  "file_extension": ".py",
  "mimetype": "text/x-python",
  "name": "python",
  "npconvert_exporter": "python",
  "pygments_lexer": "ipython3",
  "version": 3,
  "kernelspec": {
   "name": "python3",
   "display_name": "Python 3"
  }
 },
 "cells": [
  {
   "cell_type": "code",
   "execution_count": 2,
   "metadata": {},
   "outputs": [],
   "source": [
    "import pandas as pd\n",
    "import matplotlib.pyplot as plt\n",
    "import numpy as np\n",
    ""
   ]
  },
  {
   "cell_type": "code",
   "execution_count": 3,
   "metadata": {},
   "outputs": [
    {
     "output_type": "execute_result",
     "data": {
      "text/plain": "     Unnamed: 0   State                                           District  \\\n0             1      AN  District Andamans (01), Andaman & Nicobar Isla...   \n1             2      AN  District Nicobars (02), Andaman & Nicobar Isla...   \n2             3  Andhra        District Adilabad (01), Andhra Pradesh (28)   \n3             4  Andhra       District Nizamabad (02), Andhra Pradesh (28)   \n4             5  Andhra      District Karimnagar (03), Andhra Pradesh (28)   \n..          ...     ...                                                ...   \n585         586      WB           District Puruliya (14), West Bengal (19)   \n586         587      WB                                 District Medinipur   \n587         588      WB                                     District Haora   \n588         589      WB            District Kolkata (17), West Bengal (19)   \n589         590      WB        Twenty Four Parganas (18), West Bengal (19)   \n\n     Persons    Males  Females Growth..1991...2001.    Rural   Urban  \\\n0     314084   170319   143765                30.14   197886  116198   \n1      42068    22653    19415                 7.19    42068       -   \n2    2488003  1250958  1237045                19.06  1827986     NaN   \n3    2345685  1162905  1182780                14.98  1920947     NaN   \n4    3491822  1747968  1743854                14.47  2813010     NaN   \n..       ...      ...      ...                  ...      ...     ...   \n585  2536516  1298078  1238438                13.96  2281090     NaN   \n586  9610788  4916370  4694418                15.68  8626883     NaN   \n587  4273099  2241898  2031201                 14.6  2121109     NaN   \n588  4572876  2500040  2072836                 4.11        -     NaN   \n589  6906689  3564993  3341696                20.89  5820469     NaN   \n\n    Scheduled.Caste.population  ... Medical.facility  Primary.Health.Centre  \\\n0                            -  ...              102                     16   \n1                            -  ...               38                      4   \n2                          NaN  ...              976                     61   \n3                          NaN  ...              614                     50   \n4                          NaN  ...              863                     70   \n..                         ...  ...              ...                    ...   \n585                        NaN  ...             1173                     66   \n586                        NaN  ...             3560                    175   \n587                        NaN  ...              410                     46   \n588                        NaN  ...              NaN                    NaN   \n589                        NaN  ...             1311                     82   \n\n     Primary.Health.Sub.Centre  Post..telegraph.and.telephone.facility  \\\n0                           78                                   161.0   \n1                           31                                    36.0   \n2                          432                                   558.0   \n3                          330                                   602.0   \n4                          475                                   795.0   \n..                         ...                                     ...   \n585                        157                                   563.0   \n586                        878                                  2128.0   \n587                        150                                   363.0   \n588                        NaN                                     NaN   \n589                        479                                   931.0   \n\n     Bus.services Paved.approach.road Mud.approach.road  Permanent.House  \\\n0             187                 201               243             28.7   \n1              49                  51               111             28.0   \n2             814                 979               544             53.0   \n3             746                 760                82             52.8   \n4             912                 823               218             55.8   \n..            ...                 ...               ...              ...   \n585           651                 778              2361             26.3   \n586          1807                4166             10016             20.1   \n587           331                 623               705             68.2   \n588           NaN                 NaN               NaN             91.3   \n589           760                1634              1975             37.2   \n\n     Semi.permanent.House  Temporary.House  \n0                    39.1             32.0  \n1                    33.3             38.7  \n2                    39.9              7.0  \n3                    37.6              9.6  \n4                    36.4              7.8  \n..                    ...              ...  \n585                  44.8             28.9  \n586                  40.5             39.4  \n587                  27.9              3.9  \n588                   7.5              1.1  \n589                  33.2             29.6  \n\n[590 rows x 82 columns]",
      "text/html": "<div>\n<style scoped>\n    .dataframe tbody tr th:only-of-type {\n        vertical-align: middle;\n    }\n\n    .dataframe tbody tr th {\n        vertical-align: top;\n    }\n\n    .dataframe thead th {\n        text-align: right;\n    }\n</style>\n<table border=\"1\" class=\"dataframe\">\n  <thead>\n    <tr style=\"text-align: right;\">\n      <th></th>\n      <th>Unnamed: 0</th>\n      <th>State</th>\n      <th>District</th>\n      <th>Persons</th>\n      <th>Males</th>\n      <th>Females</th>\n      <th>Growth..1991...2001.</th>\n      <th>Rural</th>\n      <th>Urban</th>\n      <th>Scheduled.Caste.population</th>\n      <th>...</th>\n      <th>Medical.facility</th>\n      <th>Primary.Health.Centre</th>\n      <th>Primary.Health.Sub.Centre</th>\n      <th>Post..telegraph.and.telephone.facility</th>\n      <th>Bus.services</th>\n      <th>Paved.approach.road</th>\n      <th>Mud.approach.road</th>\n      <th>Permanent.House</th>\n      <th>Semi.permanent.House</th>\n      <th>Temporary.House</th>\n    </tr>\n  </thead>\n  <tbody>\n    <tr>\n      <td>0</td>\n      <td>1</td>\n      <td>AN</td>\n      <td>District Andamans (01), Andaman &amp; Nicobar Isla...</td>\n      <td>314084</td>\n      <td>170319</td>\n      <td>143765</td>\n      <td>30.14</td>\n      <td>197886</td>\n      <td>116198</td>\n      <td>-</td>\n      <td>...</td>\n      <td>102</td>\n      <td>16</td>\n      <td>78</td>\n      <td>161.0</td>\n      <td>187</td>\n      <td>201</td>\n      <td>243</td>\n      <td>28.7</td>\n      <td>39.1</td>\n      <td>32.0</td>\n    </tr>\n    <tr>\n      <td>1</td>\n      <td>2</td>\n      <td>AN</td>\n      <td>District Nicobars (02), Andaman &amp; Nicobar Isla...</td>\n      <td>42068</td>\n      <td>22653</td>\n      <td>19415</td>\n      <td>7.19</td>\n      <td>42068</td>\n      <td>-</td>\n      <td>-</td>\n      <td>...</td>\n      <td>38</td>\n      <td>4</td>\n      <td>31</td>\n      <td>36.0</td>\n      <td>49</td>\n      <td>51</td>\n      <td>111</td>\n      <td>28.0</td>\n      <td>33.3</td>\n      <td>38.7</td>\n    </tr>\n    <tr>\n      <td>2</td>\n      <td>3</td>\n      <td>Andhra</td>\n      <td>District Adilabad (01), Andhra Pradesh (28)</td>\n      <td>2488003</td>\n      <td>1250958</td>\n      <td>1237045</td>\n      <td>19.06</td>\n      <td>1827986</td>\n      <td>NaN</td>\n      <td>NaN</td>\n      <td>...</td>\n      <td>976</td>\n      <td>61</td>\n      <td>432</td>\n      <td>558.0</td>\n      <td>814</td>\n      <td>979</td>\n      <td>544</td>\n      <td>53.0</td>\n      <td>39.9</td>\n      <td>7.0</td>\n    </tr>\n    <tr>\n      <td>3</td>\n      <td>4</td>\n      <td>Andhra</td>\n      <td>District Nizamabad (02), Andhra Pradesh (28)</td>\n      <td>2345685</td>\n      <td>1162905</td>\n      <td>1182780</td>\n      <td>14.98</td>\n      <td>1920947</td>\n      <td>NaN</td>\n      <td>NaN</td>\n      <td>...</td>\n      <td>614</td>\n      <td>50</td>\n      <td>330</td>\n      <td>602.0</td>\n      <td>746</td>\n      <td>760</td>\n      <td>82</td>\n      <td>52.8</td>\n      <td>37.6</td>\n      <td>9.6</td>\n    </tr>\n    <tr>\n      <td>4</td>\n      <td>5</td>\n      <td>Andhra</td>\n      <td>District Karimnagar (03), Andhra Pradesh (28)</td>\n      <td>3491822</td>\n      <td>1747968</td>\n      <td>1743854</td>\n      <td>14.47</td>\n      <td>2813010</td>\n      <td>NaN</td>\n      <td>NaN</td>\n      <td>...</td>\n      <td>863</td>\n      <td>70</td>\n      <td>475</td>\n      <td>795.0</td>\n      <td>912</td>\n      <td>823</td>\n      <td>218</td>\n      <td>55.8</td>\n      <td>36.4</td>\n      <td>7.8</td>\n    </tr>\n    <tr>\n      <td>...</td>\n      <td>...</td>\n      <td>...</td>\n      <td>...</td>\n      <td>...</td>\n      <td>...</td>\n      <td>...</td>\n      <td>...</td>\n      <td>...</td>\n      <td>...</td>\n      <td>...</td>\n      <td>...</td>\n      <td>...</td>\n      <td>...</td>\n      <td>...</td>\n      <td>...</td>\n      <td>...</td>\n      <td>...</td>\n      <td>...</td>\n      <td>...</td>\n      <td>...</td>\n      <td>...</td>\n    </tr>\n    <tr>\n      <td>585</td>\n      <td>586</td>\n      <td>WB</td>\n      <td>District Puruliya (14), West Bengal (19)</td>\n      <td>2536516</td>\n      <td>1298078</td>\n      <td>1238438</td>\n      <td>13.96</td>\n      <td>2281090</td>\n      <td>NaN</td>\n      <td>NaN</td>\n      <td>...</td>\n      <td>1173</td>\n      <td>66</td>\n      <td>157</td>\n      <td>563.0</td>\n      <td>651</td>\n      <td>778</td>\n      <td>2361</td>\n      <td>26.3</td>\n      <td>44.8</td>\n      <td>28.9</td>\n    </tr>\n    <tr>\n      <td>586</td>\n      <td>587</td>\n      <td>WB</td>\n      <td>District Medinipur</td>\n      <td>9610788</td>\n      <td>4916370</td>\n      <td>4694418</td>\n      <td>15.68</td>\n      <td>8626883</td>\n      <td>NaN</td>\n      <td>NaN</td>\n      <td>...</td>\n      <td>3560</td>\n      <td>175</td>\n      <td>878</td>\n      <td>2128.0</td>\n      <td>1807</td>\n      <td>4166</td>\n      <td>10016</td>\n      <td>20.1</td>\n      <td>40.5</td>\n      <td>39.4</td>\n    </tr>\n    <tr>\n      <td>587</td>\n      <td>588</td>\n      <td>WB</td>\n      <td>District Haora</td>\n      <td>4273099</td>\n      <td>2241898</td>\n      <td>2031201</td>\n      <td>14.6</td>\n      <td>2121109</td>\n      <td>NaN</td>\n      <td>NaN</td>\n      <td>...</td>\n      <td>410</td>\n      <td>46</td>\n      <td>150</td>\n      <td>363.0</td>\n      <td>331</td>\n      <td>623</td>\n      <td>705</td>\n      <td>68.2</td>\n      <td>27.9</td>\n      <td>3.9</td>\n    </tr>\n    <tr>\n      <td>588</td>\n      <td>589</td>\n      <td>WB</td>\n      <td>District Kolkata (17), West Bengal (19)</td>\n      <td>4572876</td>\n      <td>2500040</td>\n      <td>2072836</td>\n      <td>4.11</td>\n      <td>-</td>\n      <td>NaN</td>\n      <td>NaN</td>\n      <td>...</td>\n      <td>NaN</td>\n      <td>NaN</td>\n      <td>NaN</td>\n      <td>NaN</td>\n      <td>NaN</td>\n      <td>NaN</td>\n      <td>NaN</td>\n      <td>91.3</td>\n      <td>7.5</td>\n      <td>1.1</td>\n    </tr>\n    <tr>\n      <td>589</td>\n      <td>590</td>\n      <td>WB</td>\n      <td>Twenty Four Parganas (18), West Bengal (19)</td>\n      <td>6906689</td>\n      <td>3564993</td>\n      <td>3341696</td>\n      <td>20.89</td>\n      <td>5820469</td>\n      <td>NaN</td>\n      <td>NaN</td>\n      <td>...</td>\n      <td>1311</td>\n      <td>82</td>\n      <td>479</td>\n      <td>931.0</td>\n      <td>760</td>\n      <td>1634</td>\n      <td>1975</td>\n      <td>37.2</td>\n      <td>33.2</td>\n      <td>29.6</td>\n    </tr>\n  </tbody>\n</table>\n<p>590 rows × 82 columns</p>\n</div>"
     },
     "metadata": {},
     "execution_count": 3
    }
   ],
   "source": [
    "file = \"Resources/all.csv\"\n",
    "data = pd.read_csv(file)\n",
    "df = pd.DataFrame(data)\n",
    "df"
   ]
  },
  {
   "cell_type": "markdown",
   "metadata": {},
   "source": [
    "## Brandon\n",
    "Is there a correlation between age/literacy, and the number of amenities that are present in each district?"
   ]
  },
  {
   "cell_type": "code",
   "execution_count": 14,
   "metadata": {},
   "outputs": [],
   "source": [
    "# Create and clean a new DF\n",
    "columns = [\"State\", \"District\", \"Persons\", \"Persons..literate\", \"Persons..literacy.rate\", \"Drinking.water.facilities\", \"Safe.Drinking.water\",\"Post..telegraph.and.telephone.facility\", \"Primary.Health.Centre\", \"Bus.services\"]\n",
    "ageLit_df = df[columns]\n",
    "\n",
    "# Replace any \"-\" with NaN, and then get rid of any NaNs.\n",
    "ageLit_df = ageLit_df.replace(\"-\", np.nan)\n",
    "ageLit_df = ageLit_df.dropna(how=\"any\")\n",
    "\n",
    "# Rename the columns so they are nice and uniform\n",
    "ageLit_df = ageLit_df.rename(columns = {\"Persons\":\"Population\", \"Persons..literate\":\"Total Literate\", \"Persons..literacy.rate\":\"Total Literacy Rate\", \"Drinking.water.facilities\":\"Total Drinking Water Facilities\", \"Safe.Drinking.water\":\"Safe Drinking Water Facilities\",\"Post..telegraph.and.telephone.facility\":\"Post/Telegraph/Telephone Facilities\", \"Primary.Health.Centre\":\"Primary Health Centers\", \"Bus.services\":\"Bus Services\"})\n",
    "\n",
    "# Reformat percentages to be real numbers\n",
    "ageLit_df[\"Total Literacy Rate\"] = ageLit_df[\"Total Literacy Rate\"]/100"
   ]
  },
  {
   "cell_type": "code",
   "execution_count": 16,
   "metadata": {},
   "outputs": [
    {
     "output_type": "execute_result",
     "data": {
      "text/plain": "    State                                           District  Population  \\\n0      AN  District Andamans (01), Andaman & Nicobar Isla...      314084   \n1      AN  District Nicobars (02), Andaman & Nicobar Isla...       42068   \n2  Andhra        District Adilabad (01), Andhra Pradesh (28)     2488003   \n3  Andhra       District Nizamabad (02), Andhra Pradesh (28)     2345685   \n4  Andhra      District Karimnagar (03), Andhra Pradesh (28)     3491822   \n\n   Total Literate  Total Literacy Rate  Total Drinking Water Facilities  \\\n0          226600               0.8249                            331.0   \n1           26535               0.7235                            169.0   \n2         1112189               0.5268                           1585.0   \n3         1044788               0.5202                            854.0   \n4         1661089               0.5490                           1047.0   \n\n   Safe Drinking Water Facilities  Post/Telegraph/Telephone Facilities  \\\n0                           293.0                                161.0   \n1                           163.0                                 36.0   \n2                          1580.0                                558.0   \n3                           854.0                                602.0   \n4                          1046.0                                795.0   \n\n   Primary Health Centers  Bus Services  Percent Clean Water Facilities  \\\n0                      16           187                        0.885196   \n1                       4            49                        0.964497   \n2                      61           814                        0.996845   \n3                      50           746                        1.000000   \n4                      70           912                        0.999045   \n\n   People per Communication Facility  People per Drinking Facility  \\\n0                            1950.83                        948.89   \n1                            1168.56                        248.92   \n2                            4458.79                       1569.72   \n3                            3896.49                       2746.70   \n4                            4392.23                       3335.07   \n\n   People per Bus Service  People per Primary Health Center  \n0                 1679.59                          19630.25  \n1                  858.53                          10517.00  \n2                 3056.51                          40786.93  \n3                 3144.35                          46913.70  \n4                 3828.75                          49883.17  ",
      "text/html": "<div>\n<style scoped>\n    .dataframe tbody tr th:only-of-type {\n        vertical-align: middle;\n    }\n\n    .dataframe tbody tr th {\n        vertical-align: top;\n    }\n\n    .dataframe thead th {\n        text-align: right;\n    }\n</style>\n<table border=\"1\" class=\"dataframe\">\n  <thead>\n    <tr style=\"text-align: right;\">\n      <th></th>\n      <th>State</th>\n      <th>District</th>\n      <th>Population</th>\n      <th>Total Literate</th>\n      <th>Total Literacy Rate</th>\n      <th>Total Drinking Water Facilities</th>\n      <th>Safe Drinking Water Facilities</th>\n      <th>Post/Telegraph/Telephone Facilities</th>\n      <th>Primary Health Centers</th>\n      <th>Bus Services</th>\n      <th>Percent Clean Water Facilities</th>\n      <th>People per Communication Facility</th>\n      <th>People per Drinking Facility</th>\n      <th>People per Bus Service</th>\n      <th>People per Primary Health Center</th>\n    </tr>\n  </thead>\n  <tbody>\n    <tr>\n      <td>0</td>\n      <td>AN</td>\n      <td>District Andamans (01), Andaman &amp; Nicobar Isla...</td>\n      <td>314084</td>\n      <td>226600</td>\n      <td>0.8249</td>\n      <td>331.0</td>\n      <td>293.0</td>\n      <td>161.0</td>\n      <td>16</td>\n      <td>187</td>\n      <td>0.885196</td>\n      <td>1950.83</td>\n      <td>948.89</td>\n      <td>1679.59</td>\n      <td>19630.25</td>\n    </tr>\n    <tr>\n      <td>1</td>\n      <td>AN</td>\n      <td>District Nicobars (02), Andaman &amp; Nicobar Isla...</td>\n      <td>42068</td>\n      <td>26535</td>\n      <td>0.7235</td>\n      <td>169.0</td>\n      <td>163.0</td>\n      <td>36.0</td>\n      <td>4</td>\n      <td>49</td>\n      <td>0.964497</td>\n      <td>1168.56</td>\n      <td>248.92</td>\n      <td>858.53</td>\n      <td>10517.00</td>\n    </tr>\n    <tr>\n      <td>2</td>\n      <td>Andhra</td>\n      <td>District Adilabad (01), Andhra Pradesh (28)</td>\n      <td>2488003</td>\n      <td>1112189</td>\n      <td>0.5268</td>\n      <td>1585.0</td>\n      <td>1580.0</td>\n      <td>558.0</td>\n      <td>61</td>\n      <td>814</td>\n      <td>0.996845</td>\n      <td>4458.79</td>\n      <td>1569.72</td>\n      <td>3056.51</td>\n      <td>40786.93</td>\n    </tr>\n    <tr>\n      <td>3</td>\n      <td>Andhra</td>\n      <td>District Nizamabad (02), Andhra Pradesh (28)</td>\n      <td>2345685</td>\n      <td>1044788</td>\n      <td>0.5202</td>\n      <td>854.0</td>\n      <td>854.0</td>\n      <td>602.0</td>\n      <td>50</td>\n      <td>746</td>\n      <td>1.000000</td>\n      <td>3896.49</td>\n      <td>2746.70</td>\n      <td>3144.35</td>\n      <td>46913.70</td>\n    </tr>\n    <tr>\n      <td>4</td>\n      <td>Andhra</td>\n      <td>District Karimnagar (03), Andhra Pradesh (28)</td>\n      <td>3491822</td>\n      <td>1661089</td>\n      <td>0.5490</td>\n      <td>1047.0</td>\n      <td>1046.0</td>\n      <td>795.0</td>\n      <td>70</td>\n      <td>912</td>\n      <td>0.999045</td>\n      <td>4392.23</td>\n      <td>3335.07</td>\n      <td>3828.75</td>\n      <td>49883.17</td>\n    </tr>\n  </tbody>\n</table>\n</div>"
     },
     "metadata": {},
     "execution_count": 16
    }
   ],
   "source": [
    "# Convert to numeric values so they can be worked with\n",
    "ageLit_df[\"Primary Health Centers\"] = pd.to_numeric(ageLit_df[\"Primary Health Centers\"])\n",
    "ageLit_df[\"Bus Services\"] = pd.to_numeric(ageLit_df[\"Bus Services\"])\n",
    "\n",
    "# Add a few columns for analysis\n",
    "ageLit_df[\"Percent Clean Water Facilities\"] = (ageLit_df[\"Safe Drinking Water Facilities\"]/ageLit_df[\"Total Drinking Water Facilities\"])\n",
    "ageLit_df[\"People per Communication Facility\"] = round(ageLit_df[\"Population\"]/ageLit_df[\"Post/Telegraph/Telephone Facilities\"],2)\n",
    "ageLit_df[\"People per Drinking Facility\"] = round(ageLit_df[\"Population\"]/ageLit_df[\"Total Drinking Water Facilities\"],2)\n",
    "ageLit_df[\"People per Bus Service\"] = round(ageLit_df[\"Population\"]/ageLit_df[\"Bus Services\"],2)\n",
    "ageLit_df[\"People per Primary Health Center\"] = round(ageLit_df[\"Population\"]/ageLit_df[\"Primary Health Centers\"],2)\n",
    "ageLit_df.head()"
   ]
  },
  {
   "cell_type": "code",
   "execution_count": 51,
   "metadata": {},
   "outputs": [
    {
     "output_type": "execute_result",
     "data": {
      "text/plain": "State                                   object\nDistrict                                object\nPopulation                               int64\nTotal Literate                           int64\nTotal Literacy Rate                    float64\nTotal Drinking Water Facilities        float64\nSafe Drinking Water Facilities         float64\nDomestic Electricity                    object\nPost/Telegraph/Telephone Facilities    float64\nPrimary Health Centers                  object\nBus Services                            object\nPercent Clean Water Facilities         float64\nPeople per Communication Facility      float64\nDrinking Facility                      float64\ndtype: object"
     },
     "metadata": {},
     "execution_count": 51
    }
   ],
   "source": []
  },
  {
   "cell_type": "code",
   "execution_count": null,
   "metadata": {},
   "outputs": [],
   "source": []
  },
  {
   "cell_type": "code",
   "execution_count": null,
   "metadata": {},
   "outputs": [],
   "source": []
  },
  {
   "cell_type": "code",
   "execution_count": null,
   "metadata": {},
   "outputs": [],
   "source": []
  },
  {
   "cell_type": "code",
   "execution_count": null,
   "metadata": {},
   "outputs": [],
   "source": []
  },
  {
   "cell_type": "markdown",
   "metadata": {},
   "source": [
    "## Jake"
   ]
  },
  {
   "cell_type": "code",
   "execution_count": null,
   "metadata": {},
   "outputs": [],
   "source": []
  },
  {
   "cell_type": "code",
   "execution_count": null,
   "metadata": {},
   "outputs": [],
   "source": []
  },
  {
   "cell_type": "code",
   "execution_count": null,
   "metadata": {},
   "outputs": [],
   "source": []
  },
  {
   "cell_type": "code",
   "execution_count": null,
   "metadata": {},
   "outputs": [],
   "source": []
  },
  {
   "cell_type": "code",
   "execution_count": null,
   "metadata": {},
   "outputs": [],
   "source": []
  },
  {
   "cell_type": "code",
   "execution_count": null,
   "metadata": {},
   "outputs": [],
   "source": []
  },
  {
   "cell_type": "code",
   "execution_count": null,
   "metadata": {},
   "outputs": [],
   "source": []
  },
  {
   "cell_type": "markdown",
   "metadata": {},
   "source": [
    "## Laura"
   ]
  },
  {
   "cell_type": "code",
   "execution_count": null,
   "metadata": {},
   "outputs": [],
   "source": []
  },
  {
   "cell_type": "code",
   "execution_count": null,
   "metadata": {},
   "outputs": [],
   "source": []
  },
  {
   "cell_type": "code",
   "execution_count": null,
   "metadata": {},
   "outputs": [],
   "source": []
  },
  {
   "cell_type": "code",
   "execution_count": null,
   "metadata": {},
   "outputs": [],
   "source": []
  },
  {
   "cell_type": "code",
   "execution_count": null,
   "metadata": {},
   "outputs": [],
   "source": []
  },
  {
   "cell_type": "code",
   "execution_count": null,
   "metadata": {},
   "outputs": [],
   "source": []
  },
  {
   "cell_type": "code",
   "execution_count": null,
   "metadata": {},
   "outputs": [],
   "source": []
  },
  {
   "cell_type": "markdown",
   "metadata": {},
   "source": [
    "## Matt"
   ]
  },
  {
   "cell_type": "code",
   "execution_count": null,
   "metadata": {},
   "outputs": [],
   "source": []
  },
  {
   "cell_type": "code",
   "execution_count": null,
   "metadata": {},
   "outputs": [],
   "source": []
  },
  {
   "cell_type": "code",
   "execution_count": null,
   "metadata": {},
   "outputs": [],
   "source": []
  },
  {
   "cell_type": "code",
   "execution_count": null,
   "metadata": {},
   "outputs": [],
   "source": []
  },
  {
   "cell_type": "code",
   "execution_count": null,
   "metadata": {},
   "outputs": [],
   "source": []
  },
  {
   "cell_type": "code",
   "execution_count": null,
   "metadata": {},
   "outputs": [],
   "source": []
  },
  {
   "cell_type": "code",
   "execution_count": null,
   "metadata": {},
   "outputs": [],
   "source": []
  },
  {
   "cell_type": "markdown",
   "metadata": {},
   "source": [
    "## Kevin"
   ]
  },
  {
   "cell_type": "code",
   "execution_count": null,
   "metadata": {},
   "outputs": [],
   "source": []
  },
  {
   "cell_type": "code",
   "execution_count": null,
   "metadata": {},
   "outputs": [],
   "source": []
  },
  {
   "cell_type": "code",
   "execution_count": null,
   "metadata": {},
   "outputs": [],
   "source": []
  },
  {
   "cell_type": "code",
   "execution_count": null,
   "metadata": {},
   "outputs": [],
   "source": []
  },
  {
   "cell_type": "code",
   "execution_count": null,
   "metadata": {},
   "outputs": [],
   "source": []
  },
  {
   "cell_type": "code",
   "execution_count": null,
   "metadata": {},
   "outputs": [],
   "source": []
  },
  {
   "cell_type": "code",
   "execution_count": null,
   "metadata": {},
   "outputs": [],
   "source": []
  }
 ]
}